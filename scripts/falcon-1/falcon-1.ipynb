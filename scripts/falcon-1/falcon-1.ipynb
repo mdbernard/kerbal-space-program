{
 "cells": [
  {
   "cell_type": "markdown",
   "metadata": {},
   "source": [
    "# Startup"
   ]
  },
  {
   "cell_type": "code",
   "execution_count": 1,
   "metadata": {},
   "outputs": [],
   "source": [
    "import krpc\n",
    "import time\n",
    "import numpy as np"
   ]
  },
  {
   "cell_type": "code",
   "execution_count": 2,
   "metadata": {},
   "outputs": [
    {
     "name": "stdout",
     "output_type": "stream",
     "text": [
      "Connected to Falcon 1\n"
     ]
    }
   ],
   "source": [
    "conn = krpc.connect(name='Falcon 1')\n",
    "vessel = conn.space_center.active_vessel\n",
    "print(f'Connected to {vessel.name}')"
   ]
  },
  {
   "cell_type": "markdown",
   "metadata": {},
   "source": [
    "# Constants"
   ]
  },
  {
   "cell_type": "code",
   "execution_count": 3,
   "metadata": {},
   "outputs": [],
   "source": [
    "g = conn.space_center.bodies['Kerbin'].surface_gravity"
   ]
  },
  {
   "cell_type": "markdown",
   "metadata": {},
   "source": [
    "# Helper Functions"
   ]
  },
  {
   "cell_type": "code",
   "execution_count": 4,
   "metadata": {},
   "outputs": [
    {
     "name": "stdout",
     "output_type": "stream",
     "text": [
      "0.13\n"
     ]
    }
   ],
   "source": [
    "def find_payload_mass(vessel):\n",
    "    '''Calculate the payload mass of the vessel, in tonnes.'''\n",
    "    payload_decoupler = vessel.parts.with_tag('payload_decoupler')[0]\n",
    "    return sum([child.mass for child in payload_decoupler.children])/1000.0\n",
    "    \n",
    "\n",
    "def calc_throttle_for_twr(target_twr, vessel):\n",
    "    '''Calculate the required throttle (0.0-1.0) to\n",
    "    meet the given TWR. If desired TWR is too high to\n",
    "    be met, set throttle to 1.0.'''\n",
    "    mass = vessel.mass\n",
    "    weight = mass*g\n",
    "    \n",
    "    if vessel.available_thrust == 0.0:\n",
    "        # safe against division by 0\n",
    "        return 0.0\n",
    "    else:\n",
    "        throttle = target_twr*weight/vessel.available_thrust\n",
    "        return min(1.0, throttle)\n",
    "    \n",
    "    \n",
    "print(find_payload_mass(vessel))"
   ]
  },
  {
   "cell_type": "markdown",
   "metadata": {},
   "source": [
    "# Ascent\n",
    "\n",
    "## Ignition to MECO\n",
    "\n",
    "1. Set target heading to straight up.\n",
    "\n",
    "2. Set throttle such that thrust-to-weight ratio (TWR) is 1.3.\n",
    "\n",
    "3. Ignite main engine.\n",
    "\n",
    "4. Wait until vertical speed is 100 m/s.\n",
    "\n",
    "5. Pitch over due east at a rate such that heading is at 45 degrees at an altitude of 15 km. The pitch rate is determined from the payload mass. The equation used to calculate the pitch rate $\\dot{\\theta}$, in degrees/second, was calculated empirically over several trials for a range of payload masses $m$ (tonnes):\n",
    "\n",
    "$$\\dot{\\theta} = 0.0041m^2 + 0.0259m + 0.5801$$\n",
    "\n",
    "6. Maintain a pitch of 45 degrees until the apoapsis altitude reaches 30 km. This will ensure the second stage can carry even the heaviest payload (2.25 tonnes) to orbit.\n",
    "\n",
    "7. Set throttle to 0.0."
   ]
  },
  {
   "cell_type": "code",
   "execution_count": 5,
   "metadata": {},
   "outputs": [],
   "source": [
    "# set target heading to straight up\n",
    "vessel.auto_pilot.target_pitch_and_heading(90.0, 90.0)\n",
    "vessel.auto_pilot.engage()\n",
    "time.sleep(1)\n",
    "\n",
    "# set throttle s.t. TWR <= 1.3\n",
    "target_twr = 1.3\n",
    "vessel.control.throttle = calc_throttle_for_twr(target_twr, vessel)\n",
    "vessel.control.activate_next_stage()\n",
    "\n",
    "# go straight up until vert. speed is 100 m/s\n",
    "while vessel.flight(vessel.orbit.body.reference_frame).vertical_speed < 100.0:\n",
    "    vessel.control.throttle = calc_throttle_for_twr(target_twr, vessel)\n",
    "    time.sleep(0.1)\n",
    "    \n",
    "# pitch over at a constant rate s.t. heading is 45 deg at alt. of 15 km\n",
    "target_twr = 1.5\n",
    "vessel.control.throttle = calc_throttle_for_twr(target_twr, vessel)\n",
    "calc_pitch_rate = lambda m: 0.0041*m**2 + 0.0259*m + 0.5801\n",
    "pitch_rate = calc_pitch_rate(find_payload_mass(vessel))\n",
    "pitch_start = time.time()\n",
    "while vessel.flight().pitch > 45.0:\n",
    "    vessel.control.throttle = calc_throttle_for_twr(target_twr, vessel)\n",
    "    target_pitch = 90.0 - (time.time() - pitch_start)*pitch_rate\n",
    "    vessel.auto_pilot.target_pitch_and_heading(target_pitch, 90.0)\n",
    "time.sleep(0.1)\n",
    "\n",
    "# maintain pitch of 45 deg until apoapsis altitude reaches 30 km\n",
    "while vessel.orbit.apoapsis_altitude < 30000:\n",
    "    vessel.control.throttle = calc_throttle_for_twr(target_twr, vessel)\n",
    "    vessel.auto_pilot.target_pitch_and_heading(45.0, 90.0)\n",
    "time.sleep(0.1)\n",
    "\n",
    "# MECO\n",
    "vessel.control.throttle = 0.0\n",
    "vessel.control.activate_next_stage()  # stage separation\n",
    "time.sleep(0.1)"
   ]
  },
  {
   "cell_type": "markdown",
   "metadata": {},
   "source": [
    "## MECO to SECO-1"
   ]
  },
  {
   "cell_type": "code",
   "execution_count": 6,
   "metadata": {},
   "outputs": [],
   "source": [
    "# SES-1\n",
    "vessel.control.activate_next_stage()  # second engine startup\n",
    "pitch_rate = 1.0\n",
    "pitch_start = time.time()\n",
    "\n",
    "# pitch over until horizontal\n",
    "while vessel.flight().pitch > 0.0:\n",
    "    target_twr = 1.75\n",
    "    vessel.control.throttle = calc_throttle_for_twr(target_twr, vessel)\n",
    "    target_pitch = 45.0 - (time.time() - pitch_start)*pitch_rate\n",
    "    vessel.auto_pilot.target_pitch_and_heading(target_pitch, 90.0)\n",
    "time.sleep(0.1)\n",
    "\n",
    "# continue burning horizontal until apoapsis altitude at 100 km\n",
    "while vessel.orbit.apoapsis_altitude < 100000.0:\n",
    "    target_twr = 1.75\n",
    "    vessel.control.throttle = calc_throttle_for_twr(target_twr, vessel)\n",
    "    vessel.auto_pilot.target_pitch_and_heading(0.0, 90.0)\n",
    "time.sleep(0.1)\n",
    "\n",
    "# SECO-1\n",
    "vessel.control.throttle = 0.0"
   ]
  },
  {
   "cell_type": "markdown",
   "metadata": {},
   "source": [
    "## SECO-1 to Circularization"
   ]
  },
  {
   "cell_type": "markdown",
   "metadata": {},
   "source": [
    "def find_ascent_altitude(pitch_rate):\n",
    "    # set target heading to straight up\n",
    "    vessel.auto_pilot.target_pitch_and_heading(90.0, 90.0)\n",
    "    vessel.auto_pilot.engage()\n",
    "    time.sleep(1)\n",
    "\n",
    "    # set throttle s.t. TWR <= 1.3\n",
    "    target_twr = 1.3\n",
    "    vessel.control.throttle = calc_throttle_for_twr(target_twr, vessel)\n",
    "    vessel.control.activate_next_stage()\n",
    "\n",
    "    # go straight up until vert. speed is 100 m/s\n",
    "    while vessel.flight(vessel.orbit.body.reference_frame).vertical_speed < 100.0:\n",
    "        vessel.control.throttle = calc_throttle_for_twr(target_twr, vessel)\n",
    "        time.sleep(0.1)\n",
    "\n",
    "    # pitch over at a constant rate s.t. heading is 45 deg at alt. of 15 km\n",
    "    target_twr = 1.5\n",
    "    vessel.control.throttle = calc_throttle_for_twr(target_twr, vessel)\n",
    "    pitch_start = time.time()\n",
    "    while vessel.flight().pitch > 45.0:\n",
    "        vessel.control.throttle = calc_throttle_for_twr(target_twr, vessel)\n",
    "        target_pitch = 90.0 - (time.time() - pitch_start)*pitch_rate\n",
    "        vessel.auto_pilot.target_pitch_and_heading(target_pitch, 90.0)\n",
    "    return vessel.flight().mean_altitude\n",
    "    \n",
    "\n",
    "saves = ['pad_125', 'pad_125', 'pad_000', 'pad_000']\n",
    "for i, save in enumerate(saves):\n",
    "    conn.space_center.load(save)\n",
    "    vessel = conn.space_center.active_vessel\n",
    "    pitch_rates = [0.5, 0.6, 0.7, 0.8, 0.9, 1.0]\n",
    "    ascent_altitudes = []\n",
    "    for pitch_rate in pitch_rates:\n",
    "        conn.space_center.load(save)\n",
    "        asc_alt = find_ascent_altitude(pitch_rate)\n",
    "        ascent_altitudes.append(asc_alt)\n",
    "    with open(f'{save}_{i%2}.txt', 'w') as f:\n",
    "        for asc in ascent_altitudes:\n",
    "            f.write(f'{asc}\\n')\n",
    "    print(f'Completed {i+1} of 6')"
   ]
  }
 ],
 "metadata": {
  "kernelspec": {
   "display_name": "Python 3",
   "language": "python",
   "name": "python3"
  },
  "language_info": {
   "codemirror_mode": {
    "name": "ipython",
    "version": 3
   },
   "file_extension": ".py",
   "mimetype": "text/x-python",
   "name": "python",
   "nbconvert_exporter": "python",
   "pygments_lexer": "ipython3",
   "version": "3.8.3"
  }
 },
 "nbformat": 4,
 "nbformat_minor": 4
}
